{
 "cells": [
  {
   "cell_type": "code",
   "execution_count": null,
   "metadata": {},
   "outputs": [],
   "source": [
    "%matplotlib inline\n",
    "import numpy as np                # Import numpy under alias np\n",
    "import matplotlib.pyplot as plt   # Import matplotlib.pyplot under alias plt"
   ]
  },
  {
   "cell_type": "markdown",
   "metadata": {},
   "source": [
    "## Define the function we want to find the roots of "
   ]
  },
  {
   "cell_type": "code",
   "execution_count": null,
   "metadata": {},
   "outputs": [],
   "source": [
    "def function_for_roots(x):       # Define a function to find the roots of\n",
    "    a = 1.01                     # Let coefficient a = 1.01\n",
    "    b = -3.04                    # Let coefficient b = -3.04\n",
    "    c = 2.07                     # Let coefficient c = 2.07\n",
    "    return a*x**2 + b*x + c      # Return the function ax^2 + bx + c"
   ]
  },
  {
   "cell_type": "markdown",
   "metadata": {},
   "source": [
    "## Define a function to check if our initial bracket values are valid"
   ]
  },
  {
   "cell_type": "code",
   "execution_count": null,
   "metadata": {},
   "outputs": [],
   "source": [
    "def check_initial_values(f, x_min, x_max, tol):       # Define a function to check the inital values   \n",
    "    \n",
    "    y_min = f(x_min)       # y_min is a function of x_min                              \n",
    "    y_max = f(x_max)       # y_max is a function of x_max\n",
    "    \n",
    "    if(y_min*y_max>=0.0):                                              # If y_min*y_max is positive or equal to zero, there is no root between initial values  \n",
    "        print(\"No zero crossing found in range =\",x_min,x_max)         # Print \"No zero crossing found in range =\"          \n",
    "        s = \"f(%f) = %f, f(%f) = %f\" % (x_min,y_min,x_max,y_max)       # s = \"f(x_min) = y_min, f(x_max) = y_max\"     \n",
    "        print(s)                                                       # Print s\n",
    "        return 0                                                       # Return flag == 0 \n",
    "    \n",
    "    if(np.fabs(y_min)<tol):       # If the absolute value of y_min is less than the tolerance, y_min is a root \n",
    "        return 1                  # Return flag == 1\n",
    "    \n",
    "    if(np.fabs(y_max)<tol):       # If the absolute value of y_max is less than the tolerance, y_max is a root \n",
    "        return 2                  # Return flag == 2\n",
    "    \n",
    "    return 3                      # Return flag == 3, our initial values are valid and we can continue "
   ]
  },
  {
   "cell_type": "markdown",
   "metadata": {},
   "source": [
    "## Define the main work function that actually performs the iterative search "
   ]
  },
  {
   "cell_type": "code",
   "execution_count": null,
   "metadata": {},
   "outputs": [],
   "source": [
    "def bisection_root_finding(f, x_min_start, x_max_start, tol):       # Define a function to use the bisection seach to find a root \n",
    "    \n",
    "    x_min = x_min_start\n",
    "    x_max = x_max_start\n",
    "    x_mid = 0.0 \n",
    "    \n",
    "    y_min = f(x_min)\n",
    "    y_max = f(x_max)\n",
    "    y_mid = 0.0 \n",
    "    \n",
    "    imax = 10000       # Set maximum value of iterations to be 10000 \n",
    "    i = 0              # Set first iteration at i = 0 \n",
    "    \n",
    "    # Check the initial values\n",
    "    flag = check_initial_values(f,x_min,x_max,tol)                   # Call the check_initial_values function\n",
    "    if(flag==0):                                                     # If the function returned flag == 0\n",
    "        print(\"Error in bisection_root_finding().\")                  # Print specified error\n",
    "        raise ValueError('Initial values invalid',x_min,x_max)       # Raise specified ValueError\n",
    "    elif(flag==1):                                                   # If the function returned flag == 1\n",
    "        return x_min                                                 # Return x_min (x_min is a root)\n",
    "    elif(flag==2):                                                   # If the function returned flag == 2\n",
    "        return x_max                                                 # Return x_max (x_max is a root)\n",
    "    \n",
    "    # If we reach here, then we need to conduct the search \n",
    "    \n",
    "    flag = 1       # Set a flag\n",
    "    \n",
    "    # Enter a while loop\n",
    "    while(flag):\n",
    "        x_mid = 0.5*(x_min+x_max)    # Let x_mid be the midpoint between x_min and x_max\n",
    "        y_mid = f(x_mid)             # Let y_mid be the function value at x_min\n",
    "        \n",
    "        # Check if x_mid is a root\n",
    "        if(np.fabs(y_mid)<tol):      # If the absolute value of y_mid is less than the tolerance\n",
    "            flag = 0                 # Flag = 0, and exit the while loop \n",
    "        else:\n",
    "            # At this point x_mid is not a root\n",
    "            \n",
    "            if(f(x_min)*f(x_mid)>0):     # If the product of the function at the midpoint and x_min is greater than zero, replace this end point\n",
    "                x_min = x_mid            # Replace x_min with x_mid\n",
    "            else:\n",
    "                x_max = x_mid            # Otherwise, replace x_max with x_mid\n",
    "        \n",
    "        print(x_min,f(x_min),x_max,f(x_max))        # Print out the iteration    \n",
    "          \n",
    "        i += 1       # Count the iteration\n",
    "        \n",
    "        # If we have exceeded the max number of iterations, exit\n",
    "        if(i>imax):\n",
    "            print(\"Exceeded max number of iterations = \",i)\n",
    "            s = \"Min bracket f(%f) = %f\" % (x_min,f(x_min))\n",
    "            print(s)\n",
    "            s = \"Max bracket f(%f) = %f\" % (x_max,f(x_max))\n",
    "            print(s)\n",
    "            s = \"Min bracket f(%f) = %f\" % (x_mid,f(x_mid))\n",
    "            print(s)\n",
    "            raise StopIteration('Stopping iterations after ',i)\n",
    "    \n",
    "    # Print out the number of iterations that this search took\n",
    "    q = \"This took a total of %i iterations\" % (i)\n",
    "    print(q)\n",
    "    \n",
    "    # We are done!\n",
    "    return x_mid  "
   ]
  },
  {
   "cell_type": "markdown",
   "metadata": {},
   "source": [
    "## Perform the search to find the first root"
   ]
  },
  {
   "cell_type": "code",
   "execution_count": null,
   "metadata": {},
   "outputs": [],
   "source": [
    "x_min = 0.5                     # x_min value for first bracket\n",
    "x_max = 1.4                     # x_min value for second bracket\n",
    "tolerance = 1.0e-6              # Set the tolerance\n",
    "\n",
    "# Print the initial guess\n",
    "print(x_min,function_for_roots(x_min))\n",
    "print(x_max,function_for_roots(x_max))\n",
    "\n",
    "x_root = bisection_root_finding(function_for_roots,x_min,x_max,tolerance)\n",
    "y_root = function_for_roots(x_root)\n",
    "\n",
    "s = \"Root found with y(%f) = %f\" % (x_root,y_root)\n",
    "print(s)"
   ]
  },
  {
   "cell_type": "markdown",
   "metadata": {},
   "source": [
    "## Perform the search to find the second root"
   ]
  },
  {
   "cell_type": "code",
   "execution_count": null,
   "metadata": {},
   "outputs": [],
   "source": [
    "x_min = 1.6                     # x_min value for second bracket\n",
    "x_max = 2.5                     # x_max value for second bracket\n",
    "tolerance = 1.0e-6              # Set the tolerance \n",
    " \n",
    "# Print the initial guess\n",
    "print(x_min,function_for_roots(x_min))\n",
    "print(x_max,function_for_roots(x_max))\n",
    "\n",
    "x_root = bisection_root_finding(function_for_roots,x_min,x_max,tolerance)\n",
    "y_root = function_for_roots(x_root)\n",
    "\n",
    "s = \"Root found with y(%f) = %f\" % (x_root,y_root)\n",
    "print(s)"
   ]
  },
  {
   "cell_type": "markdown",
   "metadata": {},
   "source": [
    "## Create a plot to display the initial bracketing values and roots"
   ]
  },
  {
   "cell_type": "code",
   "execution_count": null,
   "metadata": {},
   "outputs": [],
   "source": [
    "f = plt.figure(figsize=(7,7))     \n",
    "x = np.linspace(0, 3, 1000)       # Let x range from 0 to 3 with 1000 intervals         \n",
    "y = 1.01*x**2 - 3.04*x + 2.07     # Let y = f(x) (the function we want to find the roots of)\n",
    "z = 0*x                           # Let z be a horizontal line at y = 0 \n",
    "plt.plot(x,y)                     # plot y vs x\n",
    "plt.plot(x,z)                     # Plot z vs x\n",
    "\n",
    "plt.plot(0.5,0.8024999999999998,marker='o',color='green',label='root 1 bracket')     # Plot the first bracket point for root 1\n",
    "plt.plot(1.4,-0.20639999999999992,marker='o',color='green')                          # Plot the second bracket point for root 1\n",
    "plt.plot(1.040871,-0.000001,marker='o',color='black',label='root 1')                 # Plot root 1\n",
    "\n",
    "plt.plot(1.6,-0.20840000000000058,marker='o',color='red',label='root 2 bracket')     # Plot the first bracket point for root 2\n",
    "plt.plot(2.5,0.7825000000000002,marker='o',color='red',)                             # Plot the second bracket point for root 2\n",
    "plt.plot(1.969031,-0.000001,marker='o',color='purple',label='root 2')                # plot root 2\n",
    "\n",
    "plt.ylabel('f(x)')                 # Label y-axis \"f(x)\"\n",
    "plt.xlabel('x')                    # Label x-axis \"x\"\n",
    "plt.xlim([0,3])                    # Set limits of x-axis\n",
    "plt.ylim([-0.5,2.1])               # Set limits of y-axis\n",
    "plt.legend(loc=9,frameon=True)     # Set the location and frame of the legend\n",
    "plt.show()                         # Print the plot to the screen"
   ]
  }
 ],
 "metadata": {
  "kernelspec": {
   "display_name": "Python 3",
   "language": "python",
   "name": "python3"
  },
  "language_info": {
   "codemirror_mode": {
    "name": "ipython",
    "version": 3
   },
   "file_extension": ".py",
   "mimetype": "text/x-python",
   "name": "python",
   "nbconvert_exporter": "python",
   "pygments_lexer": "ipython3",
   "version": "3.7.0"
  }
 },
 "nbformat": 4,
 "nbformat_minor": 2
}
